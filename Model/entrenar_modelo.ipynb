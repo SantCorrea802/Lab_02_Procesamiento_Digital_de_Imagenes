{
 "cells": [
  {
   "cell_type": "code",
   "execution_count": 3,
   "id": "a1a26d09",
   "metadata": {},
   "outputs": [
    {
     "name": "stderr",
     "output_type": "stream",
     "text": [
      "c:\\Users\\HP\\anaconda3\\Lib\\site-packages\\paramiko\\transport.py:219: CryptographyDeprecationWarning: Blowfish has been deprecated and will be removed in a future release\n",
      "  \"class\": algorithms.Blowfish,\n"
     ]
    }
   ],
   "source": [
    "import numpy as np\n",
    "import os, sys\n",
    "from sklearn.model_selection import train_test_split\n",
    "from sklearn import svm\n",
    "from sklearn import metrics\n",
    "from skimage.feature import local_binary_pattern"
   ]
  },
  {
   "cell_type": "markdown",
   "id": "b23a2fee",
   "metadata": {},
   "source": [
    "### PRIMERO ENTRENAMOS EL MODELO CON LAS CARACTERISTICAS HOG"
   ]
  },
  {
   "cell_type": "code",
   "execution_count": 9,
   "id": "065c49cd",
   "metadata": {},
   "outputs": [
    {
     "name": "stdout",
     "output_type": "stream",
     "text": [
      "[[0.06741238 0.06666996 0.05018073 ... 0.00053681 0.00625812 0.00537487]\n",
      " [0.         0.         0.         ... 0.         0.         0.        ]\n",
      " [0.         0.         0.         ... 0.06130948 0.01892311 0.05881432]\n",
      " ...\n",
      " [0.01512267 0.         0.         ... 0.         0.         0.00671988]\n",
      " [0.12196142 0.18785213 0.08513505 ... 0.         0.         0.        ]\n",
      " [0.         0.         0.         ... 0.         0.         0.        ]]\n",
      "[1 1 1 ... 0 0 0]\n"
     ]
    }
   ],
   "source": [
    "x_train_hog = np.load(os.getcwd() + \"/x_train_hog.npy\")\n",
    "print(x_train_hog)\n",
    "y_train_hog = np.load(os.getcwd() + \"/y_train_hog.npy\")\n",
    "print(y_train_hog)"
   ]
  },
  {
   "cell_type": "code",
   "execution_count": 10,
   "id": "b9006423",
   "metadata": {},
   "outputs": [
    {
     "name": "stdout",
     "output_type": "stream",
     "text": [
      "tamaño de las x de entrenamiento:\n",
      "(3114, 8100)\n",
      "tamaño de las y de entrenamiento:\n",
      "(3114,)\n"
     ]
    }
   ],
   "source": [
    "print(\"tamaño de las x de entrenamiento:\")\n",
    "print(x_train_hog.shape)\n",
    "print(\"tamaño de las y de entrenamiento:\")\n",
    "print(y_train_hog.shape)"
   ]
  },
  {
   "cell_type": "code",
   "execution_count": 11,
   "id": "75f1222a",
   "metadata": {},
   "outputs": [
    {
     "data": {
      "text/html": [
       "<style>#sk-container-id-1 {color: black;background-color: white;}#sk-container-id-1 pre{padding: 0;}#sk-container-id-1 div.sk-toggleable {background-color: white;}#sk-container-id-1 label.sk-toggleable__label {cursor: pointer;display: block;width: 100%;margin-bottom: 0;padding: 0.3em;box-sizing: border-box;text-align: center;}#sk-container-id-1 label.sk-toggleable__label-arrow:before {content: \"▸\";float: left;margin-right: 0.25em;color: #696969;}#sk-container-id-1 label.sk-toggleable__label-arrow:hover:before {color: black;}#sk-container-id-1 div.sk-estimator:hover label.sk-toggleable__label-arrow:before {color: black;}#sk-container-id-1 div.sk-toggleable__content {max-height: 0;max-width: 0;overflow: hidden;text-align: left;background-color: #f0f8ff;}#sk-container-id-1 div.sk-toggleable__content pre {margin: 0.2em;color: black;border-radius: 0.25em;background-color: #f0f8ff;}#sk-container-id-1 input.sk-toggleable__control:checked~div.sk-toggleable__content {max-height: 200px;max-width: 100%;overflow: auto;}#sk-container-id-1 input.sk-toggleable__control:checked~label.sk-toggleable__label-arrow:before {content: \"▾\";}#sk-container-id-1 div.sk-estimator input.sk-toggleable__control:checked~label.sk-toggleable__label {background-color: #d4ebff;}#sk-container-id-1 div.sk-label input.sk-toggleable__control:checked~label.sk-toggleable__label {background-color: #d4ebff;}#sk-container-id-1 input.sk-hidden--visually {border: 0;clip: rect(1px 1px 1px 1px);clip: rect(1px, 1px, 1px, 1px);height: 1px;margin: -1px;overflow: hidden;padding: 0;position: absolute;width: 1px;}#sk-container-id-1 div.sk-estimator {font-family: monospace;background-color: #f0f8ff;border: 1px dotted black;border-radius: 0.25em;box-sizing: border-box;margin-bottom: 0.5em;}#sk-container-id-1 div.sk-estimator:hover {background-color: #d4ebff;}#sk-container-id-1 div.sk-parallel-item::after {content: \"\";width: 100%;border-bottom: 1px solid gray;flex-grow: 1;}#sk-container-id-1 div.sk-label:hover label.sk-toggleable__label {background-color: #d4ebff;}#sk-container-id-1 div.sk-serial::before {content: \"\";position: absolute;border-left: 1px solid gray;box-sizing: border-box;top: 0;bottom: 0;left: 50%;z-index: 0;}#sk-container-id-1 div.sk-serial {display: flex;flex-direction: column;align-items: center;background-color: white;padding-right: 0.2em;padding-left: 0.2em;position: relative;}#sk-container-id-1 div.sk-item {position: relative;z-index: 1;}#sk-container-id-1 div.sk-parallel {display: flex;align-items: stretch;justify-content: center;background-color: white;position: relative;}#sk-container-id-1 div.sk-item::before, #sk-container-id-1 div.sk-parallel-item::before {content: \"\";position: absolute;border-left: 1px solid gray;box-sizing: border-box;top: 0;bottom: 0;left: 50%;z-index: -1;}#sk-container-id-1 div.sk-parallel-item {display: flex;flex-direction: column;z-index: 1;position: relative;background-color: white;}#sk-container-id-1 div.sk-parallel-item:first-child::after {align-self: flex-end;width: 50%;}#sk-container-id-1 div.sk-parallel-item:last-child::after {align-self: flex-start;width: 50%;}#sk-container-id-1 div.sk-parallel-item:only-child::after {width: 0;}#sk-container-id-1 div.sk-dashed-wrapped {border: 1px dashed gray;margin: 0 0.4em 0.5em 0.4em;box-sizing: border-box;padding-bottom: 0.4em;background-color: white;}#sk-container-id-1 div.sk-label label {font-family: monospace;font-weight: bold;display: inline-block;line-height: 1.2em;}#sk-container-id-1 div.sk-label-container {text-align: center;}#sk-container-id-1 div.sk-container {/* jupyter's `normalize.less` sets `[hidden] { display: none; }` but bootstrap.min.css set `[hidden] { display: none !important; }` so we also need the `!important` here to be able to override the default hidden behavior on the sphinx rendered scikit-learn.org. See: https://github.com/scikit-learn/scikit-learn/issues/21755 */display: inline-block !important;position: relative;}#sk-container-id-1 div.sk-text-repr-fallback {display: none;}</style><div id=\"sk-container-id-1\" class=\"sk-top-container\"><div class=\"sk-text-repr-fallback\"><pre>SVC(kernel=&#x27;linear&#x27;)</pre><b>In a Jupyter environment, please rerun this cell to show the HTML representation or trust the notebook. <br />On GitHub, the HTML representation is unable to render, please try loading this page with nbviewer.org.</b></div><div class=\"sk-container\" hidden><div class=\"sk-item\"><div class=\"sk-estimator sk-toggleable\"><input class=\"sk-toggleable__control sk-hidden--visually\" id=\"sk-estimator-id-1\" type=\"checkbox\" checked><label for=\"sk-estimator-id-1\" class=\"sk-toggleable__label sk-toggleable__label-arrow\">SVC</label><div class=\"sk-toggleable__content\"><pre>SVC(kernel=&#x27;linear&#x27;)</pre></div></div></div></div></div>"
      ],
      "text/plain": [
       "SVC(kernel='linear')"
      ]
     },
     "execution_count": 11,
     "metadata": {},
     "output_type": "execute_result"
    }
   ],
   "source": [
    "clasifier_hog = svm.SVC(kernel=\"linear\") # kernel lineal\n",
    "\n",
    "clasifier_hog.fit(x_train_hog, y_train_hog) # entranamos el modelo"
   ]
  },
  {
   "cell_type": "code",
   "execution_count": 12,
   "id": "03da2fb4",
   "metadata": {},
   "outputs": [
    {
     "name": "stdout",
     "output_type": "stream",
     "text": [
      "[[0.         0.         0.         ... 0.         0.         0.        ]\n",
      " [0.04642025 0.00307377 0.         ... 0.         0.0072719  0.15840915]\n",
      " [0.         0.         0.         ... 0.         0.         0.        ]\n",
      " ...\n",
      " [0.         0.         0.         ... 0.         0.         0.        ]\n",
      " [0.         0.         0.         ... 0.         0.         0.        ]\n",
      " [0.         0.         0.         ... 0.         0.         0.        ]]\n",
      "[1 1 1 ... 0 0 0]\n"
     ]
    }
   ],
   "source": [
    "x_test_hog = np.load(os.getcwd() + \"/x_test_hog.npy\")\n",
    "print(x_test_hog)\n",
    "y_test_hog = np.load(os.getcwd() + \"/y_test_hog.npy\")\n",
    "print(y_test_hog)"
   ]
  },
  {
   "cell_type": "code",
   "execution_count": 13,
   "id": "56abbc4e",
   "metadata": {},
   "outputs": [],
   "source": [
    "y_pred_hog = clasifier_hog.predict(x_test_hog)"
   ]
  },
  {
   "cell_type": "code",
   "execution_count": 14,
   "id": "42cd01f3",
   "metadata": {},
   "outputs": [
    {
     "data": {
      "text/plain": [
       "array([1, 1, 1, ..., 0, 0, 0])"
      ]
     },
     "execution_count": 14,
     "metadata": {},
     "output_type": "execute_result"
    }
   ],
   "source": [
    "y_pred_hog"
   ]
  },
  {
   "cell_type": "code",
   "execution_count": 15,
   "id": "253299fe",
   "metadata": {},
   "outputs": [
    {
     "name": "stdout",
     "output_type": "stream",
     "text": [
      "Accuracy: 0.971830985915493\n",
      "Precision: 0.9687924016282226\n",
      "Recall: 0.9794238683127572\n"
     ]
    }
   ],
   "source": [
    "#Proporción de predicciones correctas (tanto positivas como negativas) sobre el total de casos\n",
    "#Qué tan bueno es el modelo en general para clasificar bien.\n",
    "print(\"Accuracy:\",metrics.accuracy_score(y_test_hog, y_pred_hog))\n",
    "\n",
    "#De todas las veces que el modelo dijo \"tumor\", cuántas veces acertó realmente.\n",
    "#Qué tan confiables son las predicciones positivas del modelo.\n",
    "#Alta precisión significa pocos falsos positivos.\n",
    "# Model Precision: what percentage of positive tuples are labeled as such?\n",
    "print(\"Precision:\",metrics.precision_score(y_test_hog, y_pred_hog))\n",
    "\n",
    "#De todos los casos reales de tumor, cuántos detectó el modelo.\n",
    "#Qué tan bueno es el modelo para detectar todos los casos positivos.\n",
    "#Alto recall significa pocos falsos negativos\n",
    "# Model Recall: what percentage of positive tuples are labelled as such?\n",
    "print(\"Recall:\",metrics.recall_score(y_test_hog, y_pred_hog))"
   ]
  },
  {
   "cell_type": "code",
   "execution_count": 9,
   "id": "def7ecea",
   "metadata": {},
   "outputs": [
    {
     "name": "stdout",
     "output_type": "stream",
     "text": [
      "El modelo se ha guardado en c:\\Users\\HP\\Desktop\\proc_dig_ima\\Lab_02\\Model\\svm_brain_model_hog.joblib\n"
     ]
    }
   ],
   "source": [
    "# guardamos el modelo para usarlo\n",
    "import joblib\n",
    "from pathlib import Path\n",
    "\n",
    "path_model = Path.cwd() # nos paramos en la direccion actual, ya que aqui deseo guardar el modelo\n",
    "\n",
    "joblib.dump(clasifier_hog, path_model / \"svm_brain_model_hog.joblib\") # guardamos el modelo en la direccion indicada con el nombre\n",
    "                                                              # \"svm_brain_model_hog.joblib\"\n",
    "print(\"El modelo se ha guardado en\", path_model / \"svm_brain_model_hog.joblib\")\n"
   ]
  },
  {
   "cell_type": "markdown",
   "id": "08d5d889",
   "metadata": {},
   "source": [
    "### LUEGO ENTRENAMOS EL MODELO CON LAS CARACTERISTICAS LBP"
   ]
  },
  {
   "cell_type": "code",
   "execution_count": 19,
   "id": "84f0008d",
   "metadata": {},
   "outputs": [
    {
     "name": "stdout",
     "output_type": "stream",
     "text": [
      "[[ 2317  6188  4117 ...     0     0     0]\n",
      " [ 5218 13306 11730 ...     0     0     0]\n",
      " [ 2805  6215  5423 ...     0     0     0]\n",
      " ...\n",
      " [ 1594  2462  1406 ...     0     0     0]\n",
      " [  903  1902  1271 ...     0     0     0]\n",
      " [ 1072  1740  1067 ...     0     0     0]]\n",
      "[1 1 1 ... 0 0 0]\n"
     ]
    }
   ],
   "source": [
    "x_train_lbp = np.load(os.getcwd() + \"/x_train_lbp.npy\")\n",
    "print(x_train_lbp)\n",
    "y_train_lbp = np.load(os.getcwd() + \"/y_train_lbp.npy\")\n",
    "print(y_train_lbp)"
   ]
  },
  {
   "cell_type": "code",
   "execution_count": 20,
   "id": "3ce4528a",
   "metadata": {},
   "outputs": [
    {
     "name": "stdout",
     "output_type": "stream",
     "text": [
      "tamaño de las x de entrenamiento:\n",
      "(1349, 59)\n",
      "tamaño de las y de entrenamiento:\n",
      "(1349,)\n"
     ]
    }
   ],
   "source": [
    "print(\"tamaño de las x de entrenamiento:\")\n",
    "print(x_train_lbp.shape)\n",
    "print(\"tamaño de las y de entrenamiento:\")\n",
    "print(y_train_lbp.shape)"
   ]
  },
  {
   "cell_type": "code",
   "execution_count": 21,
   "id": "26f6ff07",
   "metadata": {},
   "outputs": [
    {
     "name": "stdout",
     "output_type": "stream",
     "text": [
      "[[ 2317  6188  4117 ...     0     0     0]\n",
      " [ 5218 13306 11730 ...     0     0     0]\n",
      " [ 2805  6215  5423 ...     0     0     0]\n",
      " ...\n",
      " [ 1594  2462  1406 ...     0     0     0]\n",
      " [  903  1902  1271 ...     0     0     0]\n",
      " [ 1072  1740  1067 ...     0     0     0]]\n",
      "[1 1 1 ... 0 0 0]\n"
     ]
    }
   ],
   "source": [
    "x_test_lbp = np.load(os.getcwd() + \"/x_test_lbp.npy\")\n",
    "print(x_test_lbp)\n",
    "y_test_lbp = np.load(os.getcwd() + \"/y_test_lbp.npy\")\n",
    "print(y_test_lbp)"
   ]
  },
  {
   "cell_type": "code",
   "execution_count": 23,
   "id": "ff1d7655",
   "metadata": {},
   "outputs": [
    {
     "data": {
      "text/html": [
       "<style>#sk-container-id-2 {color: black;background-color: white;}#sk-container-id-2 pre{padding: 0;}#sk-container-id-2 div.sk-toggleable {background-color: white;}#sk-container-id-2 label.sk-toggleable__label {cursor: pointer;display: block;width: 100%;margin-bottom: 0;padding: 0.3em;box-sizing: border-box;text-align: center;}#sk-container-id-2 label.sk-toggleable__label-arrow:before {content: \"▸\";float: left;margin-right: 0.25em;color: #696969;}#sk-container-id-2 label.sk-toggleable__label-arrow:hover:before {color: black;}#sk-container-id-2 div.sk-estimator:hover label.sk-toggleable__label-arrow:before {color: black;}#sk-container-id-2 div.sk-toggleable__content {max-height: 0;max-width: 0;overflow: hidden;text-align: left;background-color: #f0f8ff;}#sk-container-id-2 div.sk-toggleable__content pre {margin: 0.2em;color: black;border-radius: 0.25em;background-color: #f0f8ff;}#sk-container-id-2 input.sk-toggleable__control:checked~div.sk-toggleable__content {max-height: 200px;max-width: 100%;overflow: auto;}#sk-container-id-2 input.sk-toggleable__control:checked~label.sk-toggleable__label-arrow:before {content: \"▾\";}#sk-container-id-2 div.sk-estimator input.sk-toggleable__control:checked~label.sk-toggleable__label {background-color: #d4ebff;}#sk-container-id-2 div.sk-label input.sk-toggleable__control:checked~label.sk-toggleable__label {background-color: #d4ebff;}#sk-container-id-2 input.sk-hidden--visually {border: 0;clip: rect(1px 1px 1px 1px);clip: rect(1px, 1px, 1px, 1px);height: 1px;margin: -1px;overflow: hidden;padding: 0;position: absolute;width: 1px;}#sk-container-id-2 div.sk-estimator {font-family: monospace;background-color: #f0f8ff;border: 1px dotted black;border-radius: 0.25em;box-sizing: border-box;margin-bottom: 0.5em;}#sk-container-id-2 div.sk-estimator:hover {background-color: #d4ebff;}#sk-container-id-2 div.sk-parallel-item::after {content: \"\";width: 100%;border-bottom: 1px solid gray;flex-grow: 1;}#sk-container-id-2 div.sk-label:hover label.sk-toggleable__label {background-color: #d4ebff;}#sk-container-id-2 div.sk-serial::before {content: \"\";position: absolute;border-left: 1px solid gray;box-sizing: border-box;top: 0;bottom: 0;left: 50%;z-index: 0;}#sk-container-id-2 div.sk-serial {display: flex;flex-direction: column;align-items: center;background-color: white;padding-right: 0.2em;padding-left: 0.2em;position: relative;}#sk-container-id-2 div.sk-item {position: relative;z-index: 1;}#sk-container-id-2 div.sk-parallel {display: flex;align-items: stretch;justify-content: center;background-color: white;position: relative;}#sk-container-id-2 div.sk-item::before, #sk-container-id-2 div.sk-parallel-item::before {content: \"\";position: absolute;border-left: 1px solid gray;box-sizing: border-box;top: 0;bottom: 0;left: 50%;z-index: -1;}#sk-container-id-2 div.sk-parallel-item {display: flex;flex-direction: column;z-index: 1;position: relative;background-color: white;}#sk-container-id-2 div.sk-parallel-item:first-child::after {align-self: flex-end;width: 50%;}#sk-container-id-2 div.sk-parallel-item:last-child::after {align-self: flex-start;width: 50%;}#sk-container-id-2 div.sk-parallel-item:only-child::after {width: 0;}#sk-container-id-2 div.sk-dashed-wrapped {border: 1px dashed gray;margin: 0 0.4em 0.5em 0.4em;box-sizing: border-box;padding-bottom: 0.4em;background-color: white;}#sk-container-id-2 div.sk-label label {font-family: monospace;font-weight: bold;display: inline-block;line-height: 1.2em;}#sk-container-id-2 div.sk-label-container {text-align: center;}#sk-container-id-2 div.sk-container {/* jupyter's `normalize.less` sets `[hidden] { display: none; }` but bootstrap.min.css set `[hidden] { display: none !important; }` so we also need the `!important` here to be able to override the default hidden behavior on the sphinx rendered scikit-learn.org. See: https://github.com/scikit-learn/scikit-learn/issues/21755 */display: inline-block !important;position: relative;}#sk-container-id-2 div.sk-text-repr-fallback {display: none;}</style><div id=\"sk-container-id-2\" class=\"sk-top-container\"><div class=\"sk-text-repr-fallback\"><pre>SVC(kernel=&#x27;linear&#x27;)</pre><b>In a Jupyter environment, please rerun this cell to show the HTML representation or trust the notebook. <br />On GitHub, the HTML representation is unable to render, please try loading this page with nbviewer.org.</b></div><div class=\"sk-container\" hidden><div class=\"sk-item\"><div class=\"sk-estimator sk-toggleable\"><input class=\"sk-toggleable__control sk-hidden--visually\" id=\"sk-estimator-id-2\" type=\"checkbox\" checked><label for=\"sk-estimator-id-2\" class=\"sk-toggleable__label sk-toggleable__label-arrow\">SVC</label><div class=\"sk-toggleable__content\"><pre>SVC(kernel=&#x27;linear&#x27;)</pre></div></div></div></div></div>"
      ],
      "text/plain": [
       "SVC(kernel='linear')"
      ]
     },
     "execution_count": 23,
     "metadata": {},
     "output_type": "execute_result"
    }
   ],
   "source": [
    "clasifier_lbp = svm.SVC(kernel=\"linear\") # kernel lineal\n",
    "clasifier_lbp.fit(x_train_lbp, y_train_lbp) # entranamos el modelo"
   ]
  },
  {
   "cell_type": "code",
   "execution_count": 24,
   "id": "f88b795f",
   "metadata": {},
   "outputs": [
    {
     "name": "stdout",
     "output_type": "stream",
     "text": [
      "[1 1 1 ... 0 0 0]\n"
     ]
    }
   ],
   "source": [
    "y_pred_lbp = clasifier_lbp.predict(x_test_lbp)\n",
    "print(y_pred_lbp)"
   ]
  },
  {
   "cell_type": "code",
   "execution_count": null,
   "id": "6a5679b5",
   "metadata": {},
   "outputs": [
    {
     "name": "stdout",
     "output_type": "stream",
     "text": [
      "Accuracy: 0.7160859896219421\n",
      "Precision: 0.7240932642487047\n",
      "Recall: 0.766803840877915\n"
     ]
    }
   ],
   "source": [
    "#Proporción de predicciones correctas (tanto positivas como negativas) sobre el total de casos\n",
    "#Qué tan bueno es el modelo en general para clasificar bien.\n",
    "print(\"Accuracy:\",metrics.accuracy_score(y_test_lbp, y_pred_lbp))\n",
    "\n",
    "#De todas las veces que el modelo dijo \"tumor\", cuántas veces acertó realmente.\n",
    "#Qué tan confiables son las predicciones positivas del modelo.\n",
    "#Alta precisión significa pocos falsos positivos.\n",
    "# Model Precision: what percentage of positive tuples are labeled as such?\n",
    "print(\"Precision:\",metrics.precision_score(y_test_lbp, y_pred_lbp))\n",
    "\n",
    "#De todos los casos reales de tumor, cuántos detectó el modelo.\n",
    "#Qué tan bueno es el modelo para detectar todos los casos positivos.\n",
    "#Alto recall significa pocos falsos negativos\n",
    "# Model Recall: what percentage of positive tuples are labelled as such?\n",
    "print(\"Recall:\",metrics.recall_score(y_test_lbp, y_pred_lbp))"
   ]
  },
  {
   "cell_type": "code",
   "execution_count": 32,
   "id": "5c228754",
   "metadata": {},
   "outputs": [
    {
     "name": "stdout",
     "output_type": "stream",
     "text": [
      "El modelo se ha guardado en c:\\Users\\HP\\Desktop\\proc_dig_ima\\Lab_02\\Model\\svm_brain_model_lbp.joblib\n"
     ]
    }
   ],
   "source": [
    "# guardamos el modelo para usarlo\n",
    "import joblib\n",
    "from pathlib import Path\n",
    "\n",
    "path_model = Path.cwd() # nos paramos en la direccion actual, ya que aqui deseo guardar el modelo\n",
    "\n",
    "joblib.dump(clasifier_lbp, path_model / \"svm_brain_model_lbp.joblib\") # guardamos el modelo en la direccion indicada con el nombre\n",
    "                                                              # \"svm_brain_model_lbp.joblib\"\n",
    "print(\"El modelo se ha guardado en\", path_model / \"svm_brain_model_lbp.joblib\")\n"
   ]
  },
  {
   "cell_type": "code",
   "execution_count": 26,
   "id": "87ffa02c",
   "metadata": {},
   "outputs": [
    {
     "name": "stdout",
     "output_type": "stream",
     "text": [
      "Matriz de confusion (array):\n",
      "[[597  23]\n",
      " [ 15 714]]\n"
     ]
    },
    {
     "data": {
      "image/png": "[encoded data removed]",
      "text/plain": [
       "<Figure size 500x500 with 1 Axes>"
      ]
     },
     "metadata": {},
     "output_type": "display_data"
    }
   ],
   "source": [
    "\n",
    "from sklearn.metrics import confusion_matrix, ConfusionMatrixDisplay\n",
    "import matplotlib.pyplot as plt\n",
    "\n",
    "# calcula la matriz de confusion\n",
    "cm = confusion_matrix(y_test_hog, y_pred_hog)\n",
    "\n",
    "# muestra la matriz\n",
    "print(\"Matriz de confusion (array):\")\n",
    "print(cm)\n",
    "\n",
    "#\n",
    "disp = ConfusionMatrixDisplay(confusion_matrix=cm, display_labels=clasifier_hog.classes_)\n",
    "fig, ax = plt.subplots(figsize=(5,5))\n",
    "disp.plot(cmap=\"Blues\", ax=ax, colorbar=False)\n",
    "plt.title(\"Matriz de Confusion con las HOG\")\n",
    "plt.show()\n"
   ]
  },
  {
   "cell_type": "code",
   "execution_count": 27,
   "id": "58074b8e",
   "metadata": {},
   "outputs": [
    {
     "name": "stdout",
     "output_type": "stream",
     "text": [
      "Matriz de confusion (array):\n",
      "[[407 213]\n",
      " [170 559]]\n"
     ]
    },
    {
     "data": {
      "image/png": "[encoded data removed]",
      "text/plain": [
       "<Figure size 500x500 with 1 Axes>"
      ]
     },
     "metadata": {},
     "output_type": "display_data"
    }
   ],
   "source": [
    "# calcula la matriz de confusion\n",
    "cm = confusion_matrix(y_test_lbp, y_pred_lbp)\n",
    "\n",
    "# muestra la matriz\n",
    "print(\"Matriz de confusion (array):\")\n",
    "print(cm)\n",
    "\n",
    "#\n",
    "disp = ConfusionMatrixDisplay(confusion_matrix=cm, display_labels=clasifier_lbp.classes_)\n",
    "fig, ax = plt.subplots(figsize=(5,5))\n",
    "disp.plot(cmap=\"Blues\", ax=ax, colorbar=False)\n",
    "plt.title(\"Matriz de confusion con las LBP\")\n",
    "plt.show()\n"
   ]
  }
 ],
 "metadata": {
  "kernelspec": {
   "display_name": "base",
   "language": "python",
   "name": "python3"
  },
  "language_info": {
   "codemirror_mode": {
    "name": "ipython",
    "version": 3
   },
   "file_extension": ".py",
   "mimetype": "text/x-python",
   "name": "python",
   "nbconvert_exporter": "python",
   "pygments_lexer": "ipython3",
   "version": "3.11.7"
  }
 },
 "nbformat": 4,
 "nbformat_minor": 5
}
