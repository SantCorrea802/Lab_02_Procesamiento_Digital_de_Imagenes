{
 "cells": [
  {
   "cell_type": "code",
   "execution_count": 14,
   "id": "957f576e",
   "metadata": {},
   "outputs": [],
   "source": [
    "import numpy as np\n",
    "import cv2\n",
    "import joblib\n",
    "from pathlib import Path\n",
    "import random\n",
    "import os"
   ]
  },
  {
   "cell_type": "code",
   "execution_count": 2,
   "id": "a553c743",
   "metadata": {},
   "outputs": [],
   "source": [
    "# configurar HOG\n",
    "hog = cv2.HOGDescriptor((128,128), (16,16), (8,8), (8,8), 9)"
   ]
  },
  {
   "cell_type": "code",
   "execution_count": null,
   "id": "5046e8e1",
   "metadata": {},
   "outputs": [
    {
     "data": {
      "text/plain": [
       "WindowsPath('c:/Users/HP/Desktop/proc_dig_ima/Lab_02/Model/svm_brain_model.joblib')"
      ]
     },
     "execution_count": 4,
     "metadata": {},
     "output_type": "execute_result"
    }
   ],
   "source": [
    "# cargamos el modelo\n",
    "path_model = Path.cwd() / \"svm_brain_model.joblib\"\n",
    "path_model"
   ]
  },
  {
   "cell_type": "code",
   "execution_count": null,
   "id": "89de5317",
   "metadata": {},
   "outputs": [
    {
     "data": {
      "text/html": [
       "<style>#sk-container-id-1 {color: black;background-color: white;}#sk-container-id-1 pre{padding: 0;}#sk-container-id-1 div.sk-toggleable {background-color: white;}#sk-container-id-1 label.sk-toggleable__label {cursor: pointer;display: block;width: 100%;margin-bottom: 0;padding: 0.3em;box-sizing: border-box;text-align: center;}#sk-container-id-1 label.sk-toggleable__label-arrow:before {content: \"▸\";float: left;margin-right: 0.25em;color: #696969;}#sk-container-id-1 label.sk-toggleable__label-arrow:hover:before {color: black;}#sk-container-id-1 div.sk-estimator:hover label.sk-toggleable__label-arrow:before {color: black;}#sk-container-id-1 div.sk-toggleable__content {max-height: 0;max-width: 0;overflow: hidden;text-align: left;background-color: #f0f8ff;}#sk-container-id-1 div.sk-toggleable__content pre {margin: 0.2em;color: black;border-radius: 0.25em;background-color: #f0f8ff;}#sk-container-id-1 input.sk-toggleable__control:checked~div.sk-toggleable__content {max-height: 200px;max-width: 100%;overflow: auto;}#sk-container-id-1 input.sk-toggleable__control:checked~label.sk-toggleable__label-arrow:before {content: \"▾\";}#sk-container-id-1 div.sk-estimator input.sk-toggleable__control:checked~label.sk-toggleable__label {background-color: #d4ebff;}#sk-container-id-1 div.sk-label input.sk-toggleable__control:checked~label.sk-toggleable__label {background-color: #d4ebff;}#sk-container-id-1 input.sk-hidden--visually {border: 0;clip: rect(1px 1px 1px 1px);clip: rect(1px, 1px, 1px, 1px);height: 1px;margin: -1px;overflow: hidden;padding: 0;position: absolute;width: 1px;}#sk-container-id-1 div.sk-estimator {font-family: monospace;background-color: #f0f8ff;border: 1px dotted black;border-radius: 0.25em;box-sizing: border-box;margin-bottom: 0.5em;}#sk-container-id-1 div.sk-estimator:hover {background-color: #d4ebff;}#sk-container-id-1 div.sk-parallel-item::after {content: \"\";width: 100%;border-bottom: 1px solid gray;flex-grow: 1;}#sk-container-id-1 div.sk-label:hover label.sk-toggleable__label {background-color: #d4ebff;}#sk-container-id-1 div.sk-serial::before {content: \"\";position: absolute;border-left: 1px solid gray;box-sizing: border-box;top: 0;bottom: 0;left: 50%;z-index: 0;}#sk-container-id-1 div.sk-serial {display: flex;flex-direction: column;align-items: center;background-color: white;padding-right: 0.2em;padding-left: 0.2em;position: relative;}#sk-container-id-1 div.sk-item {position: relative;z-index: 1;}#sk-container-id-1 div.sk-parallel {display: flex;align-items: stretch;justify-content: center;background-color: white;position: relative;}#sk-container-id-1 div.sk-item::before, #sk-container-id-1 div.sk-parallel-item::before {content: \"\";position: absolute;border-left: 1px solid gray;box-sizing: border-box;top: 0;bottom: 0;left: 50%;z-index: -1;}#sk-container-id-1 div.sk-parallel-item {display: flex;flex-direction: column;z-index: 1;position: relative;background-color: white;}#sk-container-id-1 div.sk-parallel-item:first-child::after {align-self: flex-end;width: 50%;}#sk-container-id-1 div.sk-parallel-item:last-child::after {align-self: flex-start;width: 50%;}#sk-container-id-1 div.sk-parallel-item:only-child::after {width: 0;}#sk-container-id-1 div.sk-dashed-wrapped {border: 1px dashed gray;margin: 0 0.4em 0.5em 0.4em;box-sizing: border-box;padding-bottom: 0.4em;background-color: white;}#sk-container-id-1 div.sk-label label {font-family: monospace;font-weight: bold;display: inline-block;line-height: 1.2em;}#sk-container-id-1 div.sk-label-container {text-align: center;}#sk-container-id-1 div.sk-container {/* jupyter's `normalize.less` sets `[hidden] { display: none; }` but bootstrap.min.css set `[hidden] { display: none !important; }` so we also need the `!important` here to be able to override the default hidden behavior on the sphinx rendered scikit-learn.org. See: https://github.com/scikit-learn/scikit-learn/issues/21755 */display: inline-block !important;position: relative;}#sk-container-id-1 div.sk-text-repr-fallback {display: none;}</style><div id=\"sk-container-id-1\" class=\"sk-top-container\"><div class=\"sk-text-repr-fallback\"><pre>SVC(kernel=&#x27;linear&#x27;)</pre><b>In a Jupyter environment, please rerun this cell to show the HTML representation or trust the notebook. <br />On GitHub, the HTML representation is unable to render, please try loading this page with nbviewer.org.</b></div><div class=\"sk-container\" hidden><div class=\"sk-item\"><div class=\"sk-estimator sk-toggleable\"><input class=\"sk-toggleable__control sk-hidden--visually\" id=\"sk-estimator-id-1\" type=\"checkbox\" checked><label for=\"sk-estimator-id-1\" class=\"sk-toggleable__label sk-toggleable__label-arrow\">SVC</label><div class=\"sk-toggleable__content\"><pre>SVC(kernel=&#x27;linear&#x27;)</pre></div></div></div></div></div>"
      ],
      "text/plain": [
       "SVC(kernel='linear')"
      ]
     },
     "execution_count": 5,
     "metadata": {},
     "output_type": "execute_result"
    }
   ],
   "source": [
    "# configuramos clasificador\n",
    "clasifier = joblib.load(path_model)\n",
    "clasifier"
   ]
  },
  {
   "cell_type": "code",
   "execution_count": 12,
   "id": "d63538d6",
   "metadata": {},
   "outputs": [
    {
     "name": "stdout",
     "output_type": "stream",
     "text": [
      "c:\\Users\\HP\\Desktop\\proc_dig_ima\\Lab_02\\Model\\..\\Brain_Tumor_Data_Set\\Brain_Tumor_Data_Set\\test_healthy\n",
      "c:\\Users\\HP\\Desktop\\proc_dig_ima\\Lab_02\\Model\\..\\Brain_Tumor_Data_Set\\Brain_Tumor_Data_Set\\test_brain_tumor\n"
     ]
    }
   ],
   "source": [
    "path_img_healthy = Path.cwd() / \"..\" / \"Brain_Tumor_Data_Set\" / \"Brain_Tumor_Data_Set\" / \"test_healthy\"\n",
    "path_img_tumor = Path.cwd() / \"..\" / \"Brain_Tumor_Data_Set\" / \"Brain_Tumor_Data_Set\" / \"test_brain_tumor\"\n",
    "\n",
    "print(path_img_healthy)\n",
    "print(path_img_tumor)"
   ]
  },
  {
   "cell_type": "code",
   "execution_count": 87,
   "id": "8d77e9ef",
   "metadata": {},
   "outputs": [
    {
     "name": "stdout",
     "output_type": "stream",
     "text": [
      "2\n",
      "18\n",
      "\n",
      "Cancer (1057).jpg\n",
      "\n",
      "c:\\Users\\HP\\Desktop\\proc_dig_ima\\Lab_02\\Model\\..\\Brain_Tumor_Data_Set\\Brain_Tumor_Data_Set\\test_brain_tumor\\Cancer (1057).jpg\n",
      "c:\\Users\\HP\\Desktop\\proc_dig_ima\\Lab_02\\Model\\..\\Brain_Tumor_Data_Set\\Brain_Tumor_Data_Set\\test_brain_tumor\\Cancer (1057).jpg\n",
      "\n"
     ]
    }
   ],
   "source": [
    "# un numero aleatorio para seleccionar alguna imagen al azar del data set de testeo\n",
    "len_healthy = len(os.listdir(path_img_healthy))\n",
    "num_heatlhy = random.randint(0, len_healthy)\n",
    "\n",
    "len_tumor = len(os.listdir(path_img_tumor))\n",
    "num_tumor = random.randint(0, len_tumor)\n",
    "\n",
    "print(num_heatlhy)\n",
    "print(num_tumor)\n",
    "print()\n",
    "\n",
    "img_healthy = os.listdir(path_img_healthy)[num_heatlhy] # seleccionamos la imagen\n",
    "img_tumor = os.listdir(path_img_tumor)[num_tumor] # seleccionamos la imagen\n",
    "\n",
    "print(img_tumor)\n",
    "print()\n",
    "\n",
    "# path de cada imagen que testearemos\n",
    "path_tumor_test = path_img_tumor / img_tumor\n",
    "path_healthy_test = path_img_healthy / img_healthy\n",
    "print(path_tumor_test)\n",
    "print(path_tumor_test)\n",
    "print()\n",
    "\n",
    "# leemos las imagenes\n",
    "tumor = cv2.imread(path_tumor_test)\n",
    "healthy = cv2.imread(path_healthy_test)\n",
    "tumor = cv2.resize(tumor, (128,128), interpolation=cv2.INTER_AREA)\n",
    "healthy = cv2.resize(healthy, (128,128), interpolation=cv2.INTER_AREA)\n",
    "\n",
    "\n",
    "desc_tumor = hog.compute(tumor)\n",
    "desc_healthy = hog.compute(healthy)"
   ]
  },
  {
   "cell_type": "code",
   "execution_count": 88,
   "id": "eae680c7",
   "metadata": {},
   "outputs": [
    {
     "name": "stdout",
     "output_type": "stream",
     "text": [
      "1\n",
      "0\n"
     ]
    }
   ],
   "source": [
    "pred_tumor = clasifier.predict(desc_tumor.reshape(1, -1))[0]\n",
    "pred_healthy = clasifier.predict(desc_healthy.reshape(1, -1))[0]\n",
    "\n",
    "\n",
    "print(pred_tumor) \n",
    "print(pred_healthy)\n",
    "# 0 = sano, 1 = tumor"
   ]
  },
  {
   "cell_type": "code",
   "execution_count": null,
   "id": "ca83f5cf",
   "metadata": {},
   "outputs": [],
   "source": []
  }
 ],
 "metadata": {
  "kernelspec": {
   "display_name": "base",
   "language": "python",
   "name": "python3"
  },
  "language_info": {
   "codemirror_mode": {
    "name": "ipython",
    "version": 3
   },
   "file_extension": ".py",
   "mimetype": "text/x-python",
   "name": "python",
   "nbconvert_exporter": "python",
   "pygments_lexer": "ipython3",
   "version": "3.11.7"
  }
 },
 "nbformat": 4,
 "nbformat_minor": 5
}
