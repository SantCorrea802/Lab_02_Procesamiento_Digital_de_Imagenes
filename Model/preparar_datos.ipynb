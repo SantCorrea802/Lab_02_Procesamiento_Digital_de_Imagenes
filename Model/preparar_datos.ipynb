{
 "cells": [
  {
   "cell_type": "code",
   "execution_count": 1,
   "id": "3be4266e",
   "metadata": {},
   "outputs": [],
   "source": [
    "import os\n",
    "import random\n",
    "import pandas as pd\n",
    "import cv2\n",
    "import matplotlib.pyplot as plt\n",
    "import shutil"
   ]
  },
  {
   "cell_type": "code",
   "execution_count": 2,
   "id": "8404c34e",
   "metadata": {},
   "outputs": [
    {
     "name": "stdout",
     "output_type": "stream",
     "text": [
      "Directorio de trabajo actual: c:\\Users\\HP\\Desktop\\proc_dig_ima\\Lab_02\\Model\n"
     ]
    }
   ],
   "source": [
    "notebook_path = os.getcwd()\n",
    "# vemos en que direccion estamos\n",
    "print(\"Directorio de trabajo actual:\", notebook_path)"
   ]
  },
  {
   "cell_type": "code",
   "execution_count": 3,
   "id": "5856d483",
   "metadata": {},
   "outputs": [
    {
     "name": "stdout",
     "output_type": "stream",
     "text": [
      "c:\\Users\\HP\\Desktop\\proc_dig_ima\\Lab_02\\Model\\..\\Brain_Tumor_Data_Set/Brain_Tumor_Data_Set\n"
     ]
    }
   ],
   "source": [
    "# ingresamos al path del set de datos\n",
    "path_dataset = os.path.join(notebook_path,\"..\",\"Brain_Tumor_Data_Set/Brain_Tumor_Data_Set\")\n",
    "print(path_dataset)"
   ]
  },
  {
   "cell_type": "code",
   "execution_count": 4,
   "id": "5737b5c4",
   "metadata": {},
   "outputs": [
    {
     "data": {
      "text/plain": [
       "'Brain_Tumor'"
      ]
     },
     "execution_count": 4,
     "metadata": {},
     "output_type": "execute_result"
    }
   ],
   "source": [
    "# #verificamos que hay dentro del set de datos\n",
    "os.listdir(path_dataset)[0]"
   ]
  },
  {
   "cell_type": "code",
   "execution_count": 5,
   "id": "7eaeb71f",
   "metadata": {},
   "outputs": [
    {
     "name": "stdout",
     "output_type": "stream",
     "text": [
      "Brain_Tumor: entrenamiento: 1759 y para prueba: 754\n",
      "Healthy: entrenamiento: 1460 y para prueba: 627\n"
     ]
    }
   ],
   "source": [
    "sets = os.listdir(path_dataset) # nombres de las carpetas: ['Brain_Tumor', 'Healthy']\n",
    "output_path = path_dataset # aqui mismo guardaremos los datos de prueba y entrenamiento una vez divididos\n",
    "\n",
    "\n",
    "val_train = 0.7 # el 70% de los datos seran para el entrenamiento\n",
    "\n",
    "for clase in sets: \n",
    "    path_class = os.path.join(path_dataset, clase) # path de brain_tumor o healty\n",
    "    archivos = [] # aqui guardamos las imagenes\n",
    "    for f in os.listdir(path_class):\n",
    "        img_path = os.path.join(path_class, f) # path de cada imagen\n",
    "        if os.path.isfile(img_path):\n",
    "            archivos.append(f) # guardamos en archivos\n",
    "    random.shuffle(archivos) # reordenamos aleatoriamente las imagenes para seleccionar un 70% al azar luego\n",
    "    \n",
    "    n_train = int(len(archivos) * val_train) # numero de datos de entrenamiento\n",
    "    train_files = archivos[:n_train] # los primeros n_train datos\n",
    "    test_files = archivos[n_train:] # los restantes datos (desde n_train hasta el ultimo)\n",
    "    \n",
    "    train_path = os.path.join(output_path, f\"train_{clase.lower()}\") # creamos la carpeta de entrenamiento cada clase\n",
    "    test_path = os.path.join(output_path, f\"test_{clase.lower()}\")\n",
    "    \n",
    "    os.makedirs(train_path, exist_ok=True) # creamos la carpeta, si ya existe, entonces la usamos sin error\n",
    "    os.makedirs(test_path, exist_ok=True)\n",
    "    \n",
    "    \n",
    "    for f in train_files:\n",
    "        shutil.copy(os.path.join(path_class, f), os.path.join(train_path, f)) # copiamos y pegamos los datos\n",
    "    for f in test_files:\n",
    "        shutil.copy(os.path.join(path_class, f), os.path.join(test_path, f)) # copiamos y pegamos los datos\n",
    "        \n",
    "    print(f\"{clase}: entrenamiento: {len(train_files)} y para prueba: {len(test_files)}\")    \n"
   ]
  },
  {
   "cell_type": "code",
   "execution_count": 6,
   "id": "dc38dd61",
   "metadata": {},
   "outputs": [
    {
     "name": "stdout",
     "output_type": "stream",
     "text": [
      "Eliminando: C:/Users/HP/Desktop/proc_dig_ima/Lab_02/Brain_Tumor_Data_Set/Brain_Tumor_Data_Set/train_brain_tumor\\Cancer (1).png (canales = (300, 240))\n",
      "Eliminando: C:/Users/HP/Desktop/proc_dig_ima/Lab_02/Brain_Tumor_Data_Set/Brain_Tumor_Data_Set/train_brain_tumor\\Cancer (1028).jpg (canales = (336, 300))\n",
      "Eliminando: C:/Users/HP/Desktop/proc_dig_ima/Lab_02/Brain_Tumor_Data_Set/Brain_Tumor_Data_Set/train_brain_tumor\\Cancer (1209).jpg (canales = (336, 300))\n",
      "Eliminando: C:/Users/HP/Desktop/proc_dig_ima/Lab_02/Brain_Tumor_Data_Set/Brain_Tumor_Data_Set/train_brain_tumor\\Cancer (1236).jpg (canales = (1024, 1024))\n",
      "Eliminando: C:/Users/HP/Desktop/proc_dig_ima/Lab_02/Brain_Tumor_Data_Set/Brain_Tumor_Data_Set/train_brain_tumor\\Cancer (1258).jpg (canales = (1427, 1275))\n",
      "Eliminando: C:/Users/HP/Desktop/proc_dig_ima/Lab_02/Brain_Tumor_Data_Set/Brain_Tumor_Data_Set/train_brain_tumor\\Cancer (1263).jpg (canales = (938, 911))\n",
      "Eliminando: C:/Users/HP/Desktop/proc_dig_ima/Lab_02/Brain_Tumor_Data_Set/Brain_Tumor_Data_Set/train_brain_tumor\\Cancer (1266).jpg (canales = (294, 250))\n",
      "Eliminando: C:/Users/HP/Desktop/proc_dig_ima/Lab_02/Brain_Tumor_Data_Set/Brain_Tumor_Data_Set/train_brain_tumor\\Cancer (1271).jpg (canales = (325, 300))\n",
      "Eliminando: C:/Users/HP/Desktop/proc_dig_ima/Lab_02/Brain_Tumor_Data_Set/Brain_Tumor_Data_Set/train_brain_tumor\\Cancer (1282).jpg (canales = (300, 240))\n",
      "Eliminando: C:/Users/HP/Desktop/proc_dig_ima/Lab_02/Brain_Tumor_Data_Set/Brain_Tumor_Data_Set/train_brain_tumor\\Cancer (1401).jpg (canales = (336, 300))\n",
      "Eliminando: C:/Users/HP/Desktop/proc_dig_ima/Lab_02/Brain_Tumor_Data_Set/Brain_Tumor_Data_Set/train_brain_tumor\\Cancer (1404).jpg (canales = (500, 377))\n",
      "Eliminando: C:/Users/HP/Desktop/proc_dig_ima/Lab_02/Brain_Tumor_Data_Set/Brain_Tumor_Data_Set/train_brain_tumor\\Cancer (1424).jpg (canales = (1024, 1024))\n",
      "Eliminando: C:/Users/HP/Desktop/proc_dig_ima/Lab_02/Brain_Tumor_Data_Set/Brain_Tumor_Data_Set/train_brain_tumor\\Cancer (1458).jpg (canales = (294, 250))\n",
      "Eliminando: C:/Users/HP/Desktop/proc_dig_ima/Lab_02/Brain_Tumor_Data_Set/Brain_Tumor_Data_Set/train_brain_tumor\\Cancer (1463).jpg (canales = (325, 300))\n",
      "Eliminando: C:/Users/HP/Desktop/proc_dig_ima/Lab_02/Brain_Tumor_Data_Set/Brain_Tumor_Data_Set/train_brain_tumor\\Cancer (1483).jpg (canales = (336, 300))\n",
      "Eliminando: C:/Users/HP/Desktop/proc_dig_ima/Lab_02/Brain_Tumor_Data_Set/Brain_Tumor_Data_Set/train_brain_tumor\\Cancer (1502).jpg (canales = (1024, 1024))\n",
      "Eliminando: C:/Users/HP/Desktop/proc_dig_ima/Lab_02/Brain_Tumor_Data_Set/Brain_Tumor_Data_Set/train_brain_tumor\\Cancer (1523).jpg (canales = (1427, 1275))\n",
      "Eliminando: C:/Users/HP/Desktop/proc_dig_ima/Lab_02/Brain_Tumor_Data_Set/Brain_Tumor_Data_Set/train_brain_tumor\\Cancer (1533).jpg (canales = (294, 250))\n",
      "Eliminando: C:/Users/HP/Desktop/proc_dig_ima/Lab_02/Brain_Tumor_Data_Set/Brain_Tumor_Data_Set/train_brain_tumor\\Cancer (1537).jpg (canales = (325, 300))\n",
      "Eliminando: C:/Users/HP/Desktop/proc_dig_ima/Lab_02/Brain_Tumor_Data_Set/Brain_Tumor_Data_Set/train_brain_tumor\\Cancer (1556).jpg (canales = (336, 300))\n",
      "Eliminando: C:/Users/HP/Desktop/proc_dig_ima/Lab_02/Brain_Tumor_Data_Set/Brain_Tumor_Data_Set/train_brain_tumor\\Cancer (1568).jpg (canales = (1024, 1024))\n",
      "Eliminando: C:/Users/HP/Desktop/proc_dig_ima/Lab_02/Brain_Tumor_Data_Set/Brain_Tumor_Data_Set/train_brain_tumor\\Cancer (1588).jpg (canales = (1427, 1275))\n",
      "Eliminando: C:/Users/HP/Desktop/proc_dig_ima/Lab_02/Brain_Tumor_Data_Set/Brain_Tumor_Data_Set/train_brain_tumor\\Cancer (1594).jpg (canales = (938, 911))\n",
      "Eliminando: C:/Users/HP/Desktop/proc_dig_ima/Lab_02/Brain_Tumor_Data_Set/Brain_Tumor_Data_Set/train_brain_tumor\\Cancer (1597).jpg (canales = (294, 250))\n",
      "Eliminando: C:/Users/HP/Desktop/proc_dig_ima/Lab_02/Brain_Tumor_Data_Set/Brain_Tumor_Data_Set/train_brain_tumor\\Cancer (1600).jpg (canales = (325, 300))\n",
      "Eliminando: C:/Users/HP/Desktop/proc_dig_ima/Lab_02/Brain_Tumor_Data_Set/Brain_Tumor_Data_Set/train_brain_tumor\\Cancer (1609).jpg (canales = (300, 240))\n",
      "Eliminando: C:/Users/HP/Desktop/proc_dig_ima/Lab_02/Brain_Tumor_Data_Set/Brain_Tumor_Data_Set/train_brain_tumor\\Cancer (1722).jpg (canales = (336, 300))\n",
      "Eliminando: C:/Users/HP/Desktop/proc_dig_ima/Lab_02/Brain_Tumor_Data_Set/Brain_Tumor_Data_Set/train_brain_tumor\\Cancer (1744).jpg (canales = (300, 289))\n",
      "Eliminando: C:/Users/HP/Desktop/proc_dig_ima/Lab_02/Brain_Tumor_Data_Set/Brain_Tumor_Data_Set/train_brain_tumor\\Cancer (1781).jpg (canales = (360, 319))\n",
      "Eliminando: C:/Users/HP/Desktop/proc_dig_ima/Lab_02/Brain_Tumor_Data_Set/Brain_Tumor_Data_Set/train_brain_tumor\\Cancer (1784).jpg (canales = (1427, 1275))\n",
      "Eliminando: C:/Users/HP/Desktop/proc_dig_ima/Lab_02/Brain_Tumor_Data_Set/Brain_Tumor_Data_Set/train_brain_tumor\\Cancer (1790).jpg (canales = (938, 911))\n",
      "Eliminando: C:/Users/HP/Desktop/proc_dig_ima/Lab_02/Brain_Tumor_Data_Set/Brain_Tumor_Data_Set/train_brain_tumor\\Cancer (1795).jpg (canales = (294, 250))\n",
      "Eliminando: C:/Users/HP/Desktop/proc_dig_ima/Lab_02/Brain_Tumor_Data_Set/Brain_Tumor_Data_Set/train_brain_tumor\\Cancer (1798).jpg (canales = (325, 300))\n",
      "Eliminando: C:/Users/HP/Desktop/proc_dig_ima/Lab_02/Brain_Tumor_Data_Set/Brain_Tumor_Data_Set/train_brain_tumor\\Cancer (1812).jpg (canales = (300, 240))\n",
      "Eliminando: C:/Users/HP/Desktop/proc_dig_ima/Lab_02/Brain_Tumor_Data_Set/Brain_Tumor_Data_Set/train_brain_tumor\\Cancer (1998).jpg (canales = (336, 300))\n",
      "Eliminando: C:/Users/HP/Desktop/proc_dig_ima/Lab_02/Brain_Tumor_Data_Set/Brain_Tumor_Data_Set/train_brain_tumor\\Cancer (2019).jpg (canales = (300, 289))\n",
      "Eliminando: C:/Users/HP/Desktop/proc_dig_ima/Lab_02/Brain_Tumor_Data_Set/Brain_Tumor_Data_Set/train_brain_tumor\\Cancer (2033).jpg (canales = (1024, 1024))\n",
      "Eliminando: C:/Users/HP/Desktop/proc_dig_ima/Lab_02/Brain_Tumor_Data_Set/Brain_Tumor_Data_Set/train_brain_tumor\\Cancer (2056).jpg (canales = (360, 319))\n",
      "Eliminando: C:/Users/HP/Desktop/proc_dig_ima/Lab_02/Brain_Tumor_Data_Set/Brain_Tumor_Data_Set/train_brain_tumor\\Cancer (2059).jpg (canales = (1427, 1275))\n",
      "Eliminando: C:/Users/HP/Desktop/proc_dig_ima/Lab_02/Brain_Tumor_Data_Set/Brain_Tumor_Data_Set/train_brain_tumor\\Cancer (2070).jpg (canales = (294, 250))\n",
      "Eliminando: C:/Users/HP/Desktop/proc_dig_ima/Lab_02/Brain_Tumor_Data_Set/Brain_Tumor_Data_Set/train_brain_tumor\\Cancer (2075).jpg (canales = (325, 300))\n",
      "Eliminando: C:/Users/HP/Desktop/proc_dig_ima/Lab_02/Brain_Tumor_Data_Set/Brain_Tumor_Data_Set/train_brain_tumor\\Cancer (2090).jpg (canales = (300, 240))\n",
      "Eliminando: C:/Users/HP/Desktop/proc_dig_ima/Lab_02/Brain_Tumor_Data_Set/Brain_Tumor_Data_Set/train_brain_tumor\\Cancer (2098).jpg (canales = (336, 300))\n",
      "Eliminando: C:/Users/HP/Desktop/proc_dig_ima/Lab_02/Brain_Tumor_Data_Set/Brain_Tumor_Data_Set/train_brain_tumor\\Cancer (2119).jpg (canales = (300, 289))\n",
      "Eliminando: C:/Users/HP/Desktop/proc_dig_ima/Lab_02/Brain_Tumor_Data_Set/Brain_Tumor_Data_Set/train_brain_tumor\\Cancer (2132).jpg (canales = (1024, 1024))\n",
      "Eliminando: C:/Users/HP/Desktop/proc_dig_ima/Lab_02/Brain_Tumor_Data_Set/Brain_Tumor_Data_Set/train_brain_tumor\\Cancer (2155).jpg (canales = (1427, 1275))\n",
      "Eliminando: C:/Users/HP/Desktop/proc_dig_ima/Lab_02/Brain_Tumor_Data_Set/Brain_Tumor_Data_Set/train_brain_tumor\\Cancer (2162).jpg (canales = (938, 911))\n",
      "Eliminando: C:/Users/HP/Desktop/proc_dig_ima/Lab_02/Brain_Tumor_Data_Set/Brain_Tumor_Data_Set/train_brain_tumor\\Cancer (2169).jpg (canales = (294, 250))\n",
      "Eliminando: C:/Users/HP/Desktop/proc_dig_ima/Lab_02/Brain_Tumor_Data_Set/Brain_Tumor_Data_Set/train_brain_tumor\\Cancer (2175).jpg (canales = (325, 300))\n",
      "Eliminando: C:/Users/HP/Desktop/proc_dig_ima/Lab_02/Brain_Tumor_Data_Set/Brain_Tumor_Data_Set/train_brain_tumor\\Cancer (2191).jpg (canales = (300, 240))\n",
      "Eliminando: C:/Users/HP/Desktop/proc_dig_ima/Lab_02/Brain_Tumor_Data_Set/Brain_Tumor_Data_Set/train_brain_tumor\\Cancer (2216).jpg (canales = (325, 300))\n",
      "Eliminando: C:/Users/HP/Desktop/proc_dig_ima/Lab_02/Brain_Tumor_Data_Set/Brain_Tumor_Data_Set/train_brain_tumor\\Cancer (2228).jpg (canales = (278, 236))\n",
      "Eliminando: C:/Users/HP/Desktop/proc_dig_ima/Lab_02/Brain_Tumor_Data_Set/Brain_Tumor_Data_Set/train_brain_tumor\\Cancer (2231).jpg (canales = (1427, 1275))\n",
      "Eliminando: C:/Users/HP/Desktop/proc_dig_ima/Lab_02/Brain_Tumor_Data_Set/Brain_Tumor_Data_Set/train_brain_tumor\\Cancer (2240).jpg (canales = (938, 911))\n",
      "Eliminando: C:/Users/HP/Desktop/proc_dig_ima/Lab_02/Brain_Tumor_Data_Set/Brain_Tumor_Data_Set/train_brain_tumor\\Cancer (2248).jpg (canales = (294, 250))\n",
      "Eliminando: C:/Users/HP/Desktop/proc_dig_ima/Lab_02/Brain_Tumor_Data_Set/Brain_Tumor_Data_Set/train_brain_tumor\\Cancer (2340).jpg (canales = (500, 377))\n",
      "Eliminando: C:/Users/HP/Desktop/proc_dig_ima/Lab_02/Brain_Tumor_Data_Set/Brain_Tumor_Data_Set/train_brain_tumor\\Cancer (2377).jpg (canales = (336, 300))\n",
      "Eliminando: C:/Users/HP/Desktop/proc_dig_ima/Lab_02/Brain_Tumor_Data_Set/Brain_Tumor_Data_Set/train_brain_tumor\\Cancer (937).jpg (canales = (360, 319))\n",
      "Eliminando: C:/Users/HP/Desktop/proc_dig_ima/Lab_02/Brain_Tumor_Data_Set/Brain_Tumor_Data_Set/train_brain_tumor\\Cancer (939).jpg (canales = (500, 377))\n",
      "Eliminando: C:/Users/HP/Desktop/proc_dig_ima/Lab_02/Brain_Tumor_Data_Set/Brain_Tumor_Data_Set/train_brain_tumor\\Cancer (941).jpg (canales = (300, 289))\n",
      "Eliminando: C:/Users/HP/Desktop/proc_dig_ima/Lab_02/Brain_Tumor_Data_Set/Brain_Tumor_Data_Set/train_brain_tumor\\Cancer (951).jpg (canales = (1024, 1024))\n",
      "Eliminando: C:/Users/HP/Desktop/proc_dig_ima/Lab_02/Brain_Tumor_Data_Set/Brain_Tumor_Data_Set/train_brain_tumor\\Cancer (964).jpg (canales = (360, 319))\n",
      "Eliminando: C:/Users/HP/Desktop/proc_dig_ima/Lab_02/Brain_Tumor_Data_Set/Brain_Tumor_Data_Set/train_brain_tumor\\Cancer (965).jpg (canales = (325, 300))\n",
      "Eliminando: C:/Users/HP/Desktop/proc_dig_ima/Lab_02/Brain_Tumor_Data_Set/Brain_Tumor_Data_Set/train_brain_tumor\\Cancer (966).jpg (canales = (278, 236))\n",
      "Eliminando: C:/Users/HP/Desktop/proc_dig_ima/Lab_02/Brain_Tumor_Data_Set/Brain_Tumor_Data_Set/train_brain_tumor\\Cancer (968).jpg (canales = (1427, 1275))\n",
      "Eliminando: C:/Users/HP/Desktop/proc_dig_ima/Lab_02/Brain_Tumor_Data_Set/Brain_Tumor_Data_Set/train_brain_tumor\\Cancer (979).jpg (canales = (938, 911))\n",
      "Eliminando: C:/Users/HP/Desktop/proc_dig_ima/Lab_02/Brain_Tumor_Data_Set/Brain_Tumor_Data_Set/train_brain_tumor\\Cancer (989).jpg (canales = (294, 250))\n",
      "Eliminando: C:/Users/HP/Desktop/proc_dig_ima/Lab_02/Brain_Tumor_Data_Set/Brain_Tumor_Data_Set/train_healthy\\Not Cancer  (1).jpeg (canales = (630, 630))\n",
      "Eliminando: C:/Users/HP/Desktop/proc_dig_ima/Lab_02/Brain_Tumor_Data_Set/Brain_Tumor_Data_Set/train_healthy\\Not Cancer  (1194).jpg (canales = (630, 630))\n",
      "Eliminando: C:/Users/HP/Desktop/proc_dig_ima/Lab_02/Brain_Tumor_Data_Set/Brain_Tumor_Data_Set/train_healthy\\Not Cancer  (1382).jpg (canales = (442, 442))\n",
      "Eliminando: C:/Users/HP/Desktop/proc_dig_ima/Lab_02/Brain_Tumor_Data_Set/Brain_Tumor_Data_Set/train_healthy\\Not Cancer  (1404).jpg (canales = (630, 630))\n",
      "Eliminando: C:/Users/HP/Desktop/proc_dig_ima/Lab_02/Brain_Tumor_Data_Set/Brain_Tumor_Data_Set/train_healthy\\Not Cancer  (1466).jpg (canales = (630, 630))\n",
      "Eliminando: C:/Users/HP/Desktop/proc_dig_ima/Lab_02/Brain_Tumor_Data_Set/Brain_Tumor_Data_Set/train_healthy\\Not Cancer  (1503).jpg (canales = (275, 220))\n",
      "Eliminando: C:/Users/HP/Desktop/proc_dig_ima/Lab_02/Brain_Tumor_Data_Set/Brain_Tumor_Data_Set/train_healthy\\Not Cancer  (1505).jpg (canales = (442, 442))\n",
      "Eliminando: C:/Users/HP/Desktop/proc_dig_ima/Lab_02/Brain_Tumor_Data_Set/Brain_Tumor_Data_Set/train_healthy\\Not Cancer  (1513).jpg (canales = (630, 630))\n",
      "Eliminando: C:/Users/HP/Desktop/proc_dig_ima/Lab_02/Brain_Tumor_Data_Set/Brain_Tumor_Data_Set/train_healthy\\Not Cancer  (1543).jpg (canales = (630, 630))\n",
      "Eliminando: C:/Users/HP/Desktop/proc_dig_ima/Lab_02/Brain_Tumor_Data_Set/Brain_Tumor_Data_Set/train_healthy\\Not Cancer  (1552).jpg (canales = (630, 630))\n",
      "Eliminando: C:/Users/HP/Desktop/proc_dig_ima/Lab_02/Brain_Tumor_Data_Set/Brain_Tumor_Data_Set/train_healthy\\Not Cancer  (1910).jpg (canales = (630, 630))\n",
      "Eliminando: C:/Users/HP/Desktop/proc_dig_ima/Lab_02/Brain_Tumor_Data_Set/Brain_Tumor_Data_Set/train_healthy\\Not Cancer  (1918).jpg (canales = (630, 630))\n",
      "Eliminando: C:/Users/HP/Desktop/proc_dig_ima/Lab_02/Brain_Tumor_Data_Set/Brain_Tumor_Data_Set/train_healthy\\Not Cancer  (1967).jpg (canales = (630, 630))\n",
      "Eliminando: C:/Users/HP/Desktop/proc_dig_ima/Lab_02/Brain_Tumor_Data_Set/Brain_Tumor_Data_Set/train_healthy\\Not Cancer  (2020).jpg (canales = (275, 220))\n",
      "Eliminando: C:/Users/HP/Desktop/proc_dig_ima/Lab_02/Brain_Tumor_Data_Set/Brain_Tumor_Data_Set/train_healthy\\Not Cancer  (2047).jpg (canales = (630, 630))\n",
      "Eliminando: C:/Users/HP/Desktop/proc_dig_ima/Lab_02/Brain_Tumor_Data_Set/Brain_Tumor_Data_Set/train_healthy\\Not Cancer  (3).jpeg (canales = (630, 630))\n",
      "Eliminando: C:/Users/HP/Desktop/proc_dig_ima/Lab_02/Brain_Tumor_Data_Set/Brain_Tumor_Data_Set/train_healthy\\Not Cancer  (4).jpeg (canales = (442, 442))\n",
      "Eliminando: C:/Users/HP/Desktop/proc_dig_ima/Lab_02/Brain_Tumor_Data_Set/Brain_Tumor_Data_Set/train_healthy\\Not Cancer  (554).jpg (canales = (225, 225))\n",
      "Eliminando: C:/Users/HP/Desktop/proc_dig_ima/Lab_02/Brain_Tumor_Data_Set/Brain_Tumor_Data_Set/train_healthy\\Not Cancer  (559).jpg (canales = (1024, 1024))\n",
      "Eliminando: C:/Users/HP/Desktop/proc_dig_ima/Lab_02/Brain_Tumor_Data_Set/Brain_Tumor_Data_Set/train_healthy\\Not Cancer  (572).jpg (canales = (630, 630))\n",
      "Eliminando: C:/Users/HP/Desktop/proc_dig_ima/Lab_02/Brain_Tumor_Data_Set/Brain_Tumor_Data_Set/train_healthy\\Not Cancer  (577).jpg (canales = (442, 409))\n",
      "Eliminando: C:/Users/HP/Desktop/proc_dig_ima/Lab_02/Brain_Tumor_Data_Set/Brain_Tumor_Data_Set/train_healthy\\Not Cancer  (580).jpg (canales = (512, 512, 4))\n",
      "Eliminando: C:/Users/HP/Desktop/proc_dig_ima/Lab_02/Brain_Tumor_Data_Set/Brain_Tumor_Data_Set/train_healthy\\Not Cancer  (616).jpg (canales = (275, 220))\n",
      "Eliminando: C:/Users/HP/Desktop/proc_dig_ima/Lab_02/Brain_Tumor_Data_Set/Brain_Tumor_Data_Set/train_healthy\\Not Cancer  (627).jpg (canales = (301, 275))\n",
      "Eliminando: C:/Users/HP/Desktop/proc_dig_ima/Lab_02/Brain_Tumor_Data_Set/Brain_Tumor_Data_Set/train_healthy\\Not Cancer  (632).jpg (canales = (1024, 1024))\n",
      "Eliminando: C:/Users/HP/Desktop/proc_dig_ima/Lab_02/Brain_Tumor_Data_Set/Brain_Tumor_Data_Set/train_healthy\\Not Cancer  (637).jpg (canales = (442, 442))\n",
      "Eliminando: C:/Users/HP/Desktop/proc_dig_ima/Lab_02/Brain_Tumor_Data_Set/Brain_Tumor_Data_Set/train_healthy\\Not Cancer  (644).jpg (canales = (630, 630))\n",
      "Eliminando: C:/Users/HP/Desktop/proc_dig_ima/Lab_02/Brain_Tumor_Data_Set/Brain_Tumor_Data_Set/train_healthy\\Not Cancer  (645).jpg (canales = (301, 275))\n",
      "Eliminando: C:/Users/HP/Desktop/proc_dig_ima/Lab_02/Brain_Tumor_Data_Set/Brain_Tumor_Data_Set/train_healthy\\Not Cancer  (646).jpg (canales = (630, 630))\n",
      "Eliminando: C:/Users/HP/Desktop/proc_dig_ima/Lab_02/Brain_Tumor_Data_Set/Brain_Tumor_Data_Set/train_healthy\\Not Cancer  (664).jpg (canales = (630, 630))\n",
      "Eliminando: C:/Users/HP/Desktop/proc_dig_ima/Lab_02/Brain_Tumor_Data_Set/Brain_Tumor_Data_Set/train_healthy\\Not Cancer  (937).jpg (canales = (630, 630))\n",
      "Eliminando: C:/Users/HP/Desktop/proc_dig_ima/Lab_02/Brain_Tumor_Data_Set/Brain_Tumor_Data_Set/train_healthy\\Not Cancer  (964).jpg (canales = (225, 225))\n",
      "Eliminando: C:/Users/HP/Desktop/proc_dig_ima/Lab_02/Brain_Tumor_Data_Set/Brain_Tumor_Data_Set/train_healthy\\Not Cancer  (969).jpg (canales = (1024, 1024))\n",
      "Eliminando: C:/Users/HP/Desktop/proc_dig_ima/Lab_02/Brain_Tumor_Data_Set/Brain_Tumor_Data_Set/train_healthy\\Not Cancer  (973).jpg (canales = (275, 220))\n",
      "Eliminando: C:/Users/HP/Desktop/proc_dig_ima/Lab_02/Brain_Tumor_Data_Set/Brain_Tumor_Data_Set/train_healthy\\Not Cancer  (981).jpg (canales = (664, 550, 4))\n",
      "Eliminando: C:/Users/HP/Desktop/proc_dig_ima/Lab_02/Brain_Tumor_Data_Set/Brain_Tumor_Data_Set/train_healthy\\Not Cancer  (984).jpg (canales = (442, 409))\n",
      "Eliminando: C:/Users/HP/Desktop/proc_dig_ima/Lab_02/Brain_Tumor_Data_Set/Brain_Tumor_Data_Set/train_healthy\\Not Cancer  (989).jpg (canales = (400, 393, 4))\n",
      "Eliminando: C:/Users/HP/Desktop/proc_dig_ima/Lab_02/Brain_Tumor_Data_Set/Brain_Tumor_Data_Set/train_healthy\\Not Cancer  (990).jpg (canales = (454, 442, 4))\n",
      "Eliminando: C:/Users/HP/Desktop/proc_dig_ima/Lab_02/Brain_Tumor_Data_Set/Brain_Tumor_Data_Set/test_brain_tumor\\Cancer (1448).jpg (canales = (1427, 1275))\n",
      "Eliminando: C:/Users/HP/Desktop/proc_dig_ima/Lab_02/Brain_Tumor_Data_Set/Brain_Tumor_Data_Set/test_brain_tumor\\Cancer (1454).jpg (canales = (938, 911))\n",
      "Eliminando: C:/Users/HP/Desktop/proc_dig_ima/Lab_02/Brain_Tumor_Data_Set/Brain_Tumor_Data_Set/test_brain_tumor\\Cancer (1476).jpg (canales = (300, 240))\n",
      "Eliminando: C:/Users/HP/Desktop/proc_dig_ima/Lab_02/Brain_Tumor_Data_Set/Brain_Tumor_Data_Set/test_brain_tumor\\Cancer (1485).jpg (canales = (500, 377))\n",
      "Eliminando: C:/Users/HP/Desktop/proc_dig_ima/Lab_02/Brain_Tumor_Data_Set/Brain_Tumor_Data_Set/test_brain_tumor\\Cancer (1529).jpg (canales = (938, 911))\n",
      "Eliminando: C:/Users/HP/Desktop/proc_dig_ima/Lab_02/Brain_Tumor_Data_Set/Brain_Tumor_Data_Set/test_brain_tumor\\Cancer (1550).jpg (canales = (300, 240))\n",
      "Eliminando: C:/Users/HP/Desktop/proc_dig_ima/Lab_02/Brain_Tumor_Data_Set/Brain_Tumor_Data_Set/test_brain_tumor\\Cancer (1557).jpg (canales = (500, 377))\n",
      "Eliminando: C:/Users/HP/Desktop/proc_dig_ima/Lab_02/Brain_Tumor_Data_Set/Brain_Tumor_Data_Set/test_brain_tumor\\Cancer (1730).jpg (canales = (500, 377))\n",
      "Eliminando: C:/Users/HP/Desktop/proc_dig_ima/Lab_02/Brain_Tumor_Data_Set/Brain_Tumor_Data_Set/test_brain_tumor\\Cancer (1756).jpg (canales = (1024, 1024))\n",
      "Eliminando: C:/Users/HP/Desktop/proc_dig_ima/Lab_02/Brain_Tumor_Data_Set/Brain_Tumor_Data_Set/test_brain_tumor\\Cancer (2065).jpg (canales = (938, 911))\n",
      "Eliminando: C:/Users/HP/Desktop/proc_dig_ima/Lab_02/Brain_Tumor_Data_Set/Brain_Tumor_Data_Set/test_brain_tumor\\Cancer (2103).jpg (canales = (500, 377))\n",
      "Eliminando: C:/Users/HP/Desktop/proc_dig_ima/Lab_02/Brain_Tumor_Data_Set/Brain_Tumor_Data_Set/test_brain_tumor\\Cancer (2152).jpg (canales = (360, 319))\n",
      "Eliminando: C:/Users/HP/Desktop/proc_dig_ima/Lab_02/Brain_Tumor_Data_Set/Brain_Tumor_Data_Set/test_brain_tumor\\Cancer (2207).jpg (canales = (336, 300))\n",
      "Eliminando: C:/Users/HP/Desktop/proc_dig_ima/Lab_02/Brain_Tumor_Data_Set/Brain_Tumor_Data_Set/test_brain_tumor\\Cancer (2213).jpg (canales = (1427, 1275))\n",
      "Eliminando: C:/Users/HP/Desktop/proc_dig_ima/Lab_02/Brain_Tumor_Data_Set/Brain_Tumor_Data_Set/test_brain_tumor\\Cancer (2214).jpg (canales = (294, 250))\n",
      "Eliminando: C:/Users/HP/Desktop/proc_dig_ima/Lab_02/Brain_Tumor_Data_Set/Brain_Tumor_Data_Set/test_brain_tumor\\Cancer (2256).jpg (canales = (325, 300))\n",
      "Eliminando: C:/Users/HP/Desktop/proc_dig_ima/Lab_02/Brain_Tumor_Data_Set/Brain_Tumor_Data_Set/test_brain_tumor\\Cancer (2276).jpg (canales = (300, 240))\n",
      "Eliminando: C:/Users/HP/Desktop/proc_dig_ima/Lab_02/Brain_Tumor_Data_Set/Brain_Tumor_Data_Set/test_brain_tumor\\Cancer (2358).jpg (canales = (360, 319))\n",
      "Eliminando: C:/Users/HP/Desktop/proc_dig_ima/Lab_02/Brain_Tumor_Data_Set/Brain_Tumor_Data_Set/test_brain_tumor\\Cancer (2380).jpg (canales = (300, 289))\n",
      "Eliminando: C:/Users/HP/Desktop/proc_dig_ima/Lab_02/Brain_Tumor_Data_Set/Brain_Tumor_Data_Set/test_brain_tumor\\Cancer (2403).jpg (canales = (1024, 1024))\n",
      "Eliminando: C:/Users/HP/Desktop/proc_dig_ima/Lab_02/Brain_Tumor_Data_Set/Brain_Tumor_Data_Set/test_brain_tumor\\Cancer (944).jpg (canales = (300, 289))\n",
      "Eliminando: C:/Users/HP/Desktop/proc_dig_ima/Lab_02/Brain_Tumor_Data_Set/Brain_Tumor_Data_Set/test_brain_tumor\\Cancer (957).jpg (canales = (325, 300))\n",
      "Eliminando: C:/Users/HP/Desktop/proc_dig_ima/Lab_02/Brain_Tumor_Data_Set/Brain_Tumor_Data_Set/test_brain_tumor\\Cancer (958).jpg (canales = (294, 250))\n",
      "Eliminando: C:/Users/HP/Desktop/proc_dig_ima/Lab_02/Brain_Tumor_Data_Set/Brain_Tumor_Data_Set/test_brain_tumor\\Cancer (981).jpg (canales = (325, 300))\n",
      "Eliminando: C:/Users/HP/Desktop/proc_dig_ima/Lab_02/Brain_Tumor_Data_Set/Brain_Tumor_Data_Set/test_brain_tumor\\Cancer (997).jpg (canales = (325, 300))\n",
      "Eliminando: C:/Users/HP/Desktop/proc_dig_ima/Lab_02/Brain_Tumor_Data_Set/Brain_Tumor_Data_Set/test_healthy\\Not Cancer  (550).jpg (canales = (275, 220))\n",
      "Eliminando: C:/Users/HP/Desktop/proc_dig_ima/Lab_02/Brain_Tumor_Data_Set/Brain_Tumor_Data_Set/test_healthy\\Not Cancer  (565).jpg (canales = (275, 220))\n",
      "Eliminando: C:/Users/HP/Desktop/proc_dig_ima/Lab_02/Brain_Tumor_Data_Set/Brain_Tumor_Data_Set/test_healthy\\Not Cancer  (568).jpg (canales = (750, 750))\n",
      "Eliminando: C:/Users/HP/Desktop/proc_dig_ima/Lab_02/Brain_Tumor_Data_Set/Brain_Tumor_Data_Set/test_healthy\\Not Cancer  (573).jpg (canales = (301, 275))\n",
      "Eliminando: C:/Users/HP/Desktop/proc_dig_ima/Lab_02/Brain_Tumor_Data_Set/Brain_Tumor_Data_Set/test_healthy\\Not Cancer  (574).jpg (canales = (664, 550, 4))\n",
      "Eliminando: C:/Users/HP/Desktop/proc_dig_ima/Lab_02/Brain_Tumor_Data_Set/Brain_Tumor_Data_Set/test_healthy\\Not Cancer  (618).jpg (canales = (442, 442))\n",
      "Eliminando: C:/Users/HP/Desktop/proc_dig_ima/Lab_02/Brain_Tumor_Data_Set/Brain_Tumor_Data_Set/test_healthy\\Not Cancer  (979).jpg (canales = (301, 275))\n"
     ]
    }
   ],
   "source": [
    "import cv2\n",
    "import os\n",
    "\n",
    "# Carpetas a revisar\n",
    "folders = [\n",
    "    \"C:/Users/HP/Desktop/proc_dig_ima/Lab_02/Brain_Tumor_Data_Set/Brain_Tumor_Data_Set/train_brain_tumor\",\n",
    "    \"C:/Users/HP/Desktop/proc_dig_ima/Lab_02/Brain_Tumor_Data_Set/Brain_Tumor_Data_Set/train_healthy\",\n",
    "    \"C:/Users/HP/Desktop/proc_dig_ima/Lab_02/Brain_Tumor_Data_Set/Brain_Tumor_Data_Set/test_brain_tumor\",\n",
    "    \"C:/Users/HP/Desktop/proc_dig_ima/Lab_02/Brain_Tumor_Data_Set/Brain_Tumor_Data_Set/test_healthy\"\n",
    "]\n",
    "\n",
    "for folder in folders:\n",
    "    for file in os.listdir(folder):\n",
    "        path_img = os.path.join(folder, file)\n",
    "        if not os.path.isfile(path_img):\n",
    "            continue\n",
    "        img = cv2.imread(path_img, cv2.IMREAD_UNCHANGED)\n",
    "        if img is None:\n",
    "            continue\n",
    "        # Verifica el número de canales\n",
    "        if len(img.shape) != 3 or img.shape[2] != 3:\n",
    "            print(f\"Eliminando: {path_img} (canales = {img.shape})\")\n",
    "            os.remove(path_img)\n",
    "\n"
   ]
  },
  {
   "cell_type": "code",
   "execution_count": 7,
   "id": "2110ba30",
   "metadata": {},
   "outputs": [
    {
     "name": "stdout",
     "output_type": "stream",
     "text": [
      "C:/Users/HP/Desktop/proc_dig_ima/Lab_02/Brain_Tumor_Data_Set/Brain_Tumor_Data_Set/train_brain_tumor: hay 1692 archivos\n",
      "C:/Users/HP/Desktop/proc_dig_ima/Lab_02/Brain_Tumor_Data_Set/Brain_Tumor_Data_Set/train_healthy: hay 1422 archivos\n",
      "C:/Users/HP/Desktop/proc_dig_ima/Lab_02/Brain_Tumor_Data_Set/Brain_Tumor_Data_Set/test_brain_tumor: hay 729 archivos\n",
      "C:/Users/HP/Desktop/proc_dig_ima/Lab_02/Brain_Tumor_Data_Set/Brain_Tumor_Data_Set/test_healthy: hay 620 archivos\n"
     ]
    }
   ],
   "source": [
    "nuevos_archivos = []\n",
    "for clase in folders: \n",
    "    path_class = os.path.join(path_dataset, clase)\n",
    "    for f in os.listdir(path_class):\n",
    "        img_path = os.path.join(path_class, f) # path de cada imagen\n",
    "        if os.path.isfile(img_path):\n",
    "            nuevos_archivos.append(f) # guardamos en archivos\n",
    "    \n",
    "    print(f\"{clase}: hay {len(nuevos_archivos)} archivos\") \n",
    "    nuevos_archivos = []  "
   ]
  },
  {
   "cell_type": "code",
   "execution_count": null,
   "id": "1fd5c525",
   "metadata": {},
   "outputs": [],
   "source": []
  }
 ],
 "metadata": {
  "kernelspec": {
   "display_name": "base",
   "language": "python",
   "name": "python3"
  },
  "language_info": {
   "codemirror_mode": {
    "name": "ipython",
    "version": 3
   },
   "file_extension": ".py",
   "mimetype": "text/x-python",
   "name": "python",
   "nbconvert_exporter": "python",
   "pygments_lexer": "ipython3",
   "version": "3.11.7"
  }
 },
 "nbformat": 4,
 "nbformat_minor": 5
}
