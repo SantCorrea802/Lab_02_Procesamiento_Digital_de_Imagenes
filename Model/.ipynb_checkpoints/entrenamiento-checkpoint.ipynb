{
 "cells": [
  {
   "cell_type": "code",
   "execution_count": null,
   "id": "3be4266e",
   "metadata": {},
   "outputs": [
    {
     "ename": "ModuleNotFoundError",
     "evalue": "No module named 'google.colab'",
     "output_type": "error",
     "traceback": [
      "\u001b[1;31m---------------------------------------------------------------------------\u001b[0m",
      "\u001b[1;31mModuleNotFoundError\u001b[0m                       Traceback (most recent call last)",
      "Cell \u001b[1;32mIn[2], line 5\u001b[0m\n\u001b[0;32m      3\u001b[0m \u001b[38;5;28;01mimport\u001b[39;00m \u001b[38;5;21;01mpandas\u001b[39;00m \u001b[38;5;28;01mas\u001b[39;00m \u001b[38;5;21;01mpd\u001b[39;00m\n\u001b[0;32m      4\u001b[0m \u001b[38;5;28;01mimport\u001b[39;00m \u001b[38;5;21;01mcv2\u001b[39;00m\n\u001b[1;32m----> 5\u001b[0m \u001b[38;5;28;01mfrom\u001b[39;00m \u001b[38;5;21;01mgoogle\u001b[39;00m\u001b[38;5;21;01m.\u001b[39;00m\u001b[38;5;21;01mcolab\u001b[39;00m\u001b[38;5;21;01m.\u001b[39;00m\u001b[38;5;21;01mpatches\u001b[39;00m \u001b[38;5;28;01mimport\u001b[39;00m cv2_imshow\n",
      "\u001b[1;31mModuleNotFoundError\u001b[0m: No module named 'google.colab'"
     ]
    }
   ],
   "source": [
    "import os\n",
    "import time\n",
    "import pandas as pd\n",
    "import cv2"
   ]
  },
  {
   "cell_type": "code",
   "execution_count": null,
   "id": "8404c34e",
   "metadata": {},
   "outputs": [
    {
     "name": "stdout",
     "output_type": "stream",
     "text": [
      "Directorio de trabajo actual: c:\\Users\\HP\\Desktop\\proc_dig_ima\\Lab_02\\Model\n"
     ]
    }
   ],
   "source": [
    "notebook_path = os.getcwd()\n",
    "# vemos en que direccion estamos\n",
    "print(\"Directorio de trabajo actual:\", notebook_path)"
   ]
  },
  {
   "cell_type": "code",
   "execution_count": 15,
   "id": "5856d483",
   "metadata": {},
   "outputs": [
    {
     "name": "stdout",
     "output_type": "stream",
     "text": [
      "c:\\Users\\HP\\Desktop\\proc_dig_ima\\Lab_02\\Model\\..\\Brain_Tumor_Data_Set/Brain_Tumor_Data_Set\n"
     ]
    }
   ],
   "source": [
    "# ingresamos al path del set de datos\n",
    "path_dataset = os.path.join(notebook_path,\"..\",\"Brain_Tumor_Data_Set/Brain_Tumor_Data_Set\")\n",
    "print(path_dataset)"
   ]
  },
  {
   "cell_type": "code",
   "execution_count": 25,
   "id": "5737b5c4",
   "metadata": {},
   "outputs": [
    {
     "data": {
      "text/plain": [
       "'Brain_Tumor'"
      ]
     },
     "execution_count": 25,
     "metadata": {},
     "output_type": "execute_result"
    }
   ],
   "source": [
    "# #verificamos que hay dentro del set de datos\n",
    "# os.listdir(path_dataset)[0]"
   ]
  },
  {
   "cell_type": "code",
   "execution_count": 54,
   "id": "183655b4",
   "metadata": {},
   "outputs": [
    {
     "name": "stdout",
     "output_type": "stream",
     "text": [
      "['Brain_Tumor']\n",
      "['Brain_Tumor', 'Healthy']\n"
     ]
    },
    {
     "ename": "NameError",
     "evalue": "name 'cv2_imshow' is not defined",
     "output_type": "error",
     "traceback": [
      "\u001b[1;31m---------------------------------------------------------------------------\u001b[0m",
      "\u001b[1;31mNameError\u001b[0m                                 Traceback (most recent call last)",
      "Cell \u001b[1;32mIn[54], line 18\u001b[0m\n\u001b[0;32m     16\u001b[0m     img \u001b[38;5;241m=\u001b[39m cv2\u001b[38;5;241m.\u001b[39mimread(file)\n\u001b[0;32m     17\u001b[0m     \u001b[38;5;28;01mbreak\u001b[39;00m\n\u001b[1;32m---> 18\u001b[0m cv2_imshow(\u001b[38;5;124m\"\u001b[39m\u001b[38;5;124mimg\u001b[39m\u001b[38;5;124m\"\u001b[39m,img)\n",
      "\u001b[1;31mNameError\u001b[0m: name 'cv2_imshow' is not defined"
     ]
    }
   ],
   "source": [
    "sets = []\n",
    "path_class = []\n",
    "count = 0\n",
    "for labels in os.listdir(path_dataset):\n",
    "    sets.append(os.listdir(path_dataset)[count])\n",
    "    print(sets)\n",
    "    count+=1\n",
    "    \n",
    "for path_alt in sets:\n",
    "    path_alt = os.path.join(path_dataset, path_alt)\n",
    "    path_class.append(path_alt)\n",
    "\n",
    "count=0\n",
    "\n",
    "for file in os.listdir(path_class[0]):\n",
    "    img = cv2.imread(file)\n",
    "    break\n",
    "cv2_imshow(\"img\",img)\n",
    "    \n",
    "        \n",
    "\n",
    "#for file in os.listdir(path_class)\n",
    "    "
   ]
  },
  {
   "cell_type": "code",
   "execution_count": null,
   "id": "91f43e40",
   "metadata": {},
   "outputs": [],
   "source": []
  }
 ],
 "metadata": {
  "kernelspec": {
   "display_name": "Python 3 (ipykernel)",
   "language": "python",
   "name": "python3"
  },
  "language_info": {
   "codemirror_mode": {
    "name": "ipython",
    "version": 3
   },
   "file_extension": ".py",
   "mimetype": "text/x-python",
   "name": "python",
   "nbconvert_exporter": "python",
   "pygments_lexer": "ipython3",
   "version": "3.11.7"
  }
 },
 "nbformat": 4,
 "nbformat_minor": 5
}
